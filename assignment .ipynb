{
 "cells": [
  {
   "cell_type": "markdown",
   "id": "cc06a5d5",
   "metadata": {},
   "source": [
    "# Assignment "
   ]
  },
  {
   "cell_type": "markdown",
   "id": "df7a46e8",
   "metadata": {},
   "source": [
    "1.Write a Python program to replace all occurrences of a space, comma, or dot with a colon.\n",
    "Sample Text-'Python Exercises, PHP exercises.'\n",
    "Expected Output:Python:Exercises::PHP:exercises:\n"
   ]
  },
  {
   "cell_type": "code",
   "execution_count": 5,
   "id": "0d73b021",
   "metadata": {},
   "outputs": [
    {
     "name": "stdout",
     "output_type": "stream",
     "text": [
      "python:exercises::PHP:exercises:\n"
     ]
    }
   ],
   "source": [
    "import re\n",
    "sample_text=\"python exercises, PHP exercises.\"\n",
    "\n",
    "replaced_text= re.sub(r'[, .]',':', sample_text)\n",
    "print(replaced_text)"
   ]
  },
  {
   "cell_type": "markdown",
   "id": "69101573",
   "metadata": {},
   "source": [
    "2.Create a dataframe using the dictionary below and remove everything (commas (,), !, XXXX, ;, etc.) from the columns except words.\n",
    "Dictionary-{'SUMMARY' : ['hello, world!', 'XXXXX test', '123four, five:; six...']}\n",
    "Expected output-\n",
    "0      hello world\n",
    "1             test\n",
    "2    four five six\n"
   ]
  },
  {
   "cell_type": "code",
   "execution_count": 19,
   "id": "c9ca3d0a",
   "metadata": {},
   "outputs": [
    {
     "name": "stdout",
     "output_type": "stream",
     "text": [
      "       SUMMARY\n",
      "0   helloworld\n",
      "1         test\n",
      "2  fourfivesix\n"
     ]
    }
   ],
   "source": [
    "import pandas as pd\n",
    "import re\n",
    "data={'SUMMARY':['hello,world!','XXXXX test','123four,five:;six...']}\n",
    "df=pd.DataFrame(data)\n",
    "df['SUMMARY']=df['SUMMARY'].str.replace(r'[^a-z\\s]', '', regex=True)\n",
    "print(df)\n"
   ]
  },
  {
   "cell_type": "markdown",
   "id": "1baab45f",
   "metadata": {},
   "source": [
    "3.Create a function in python to find all words that are at least 4 characters long in a\n",
    "string. The use of the re.compile() method is mandatory."
   ]
  },
  {
   "cell_type": "code",
   "execution_count": 12,
   "id": "5c469ac4",
   "metadata": {},
   "outputs": [
    {
     "name": "stdout",
     "output_type": "stream",
     "text": [
      "words atleast 4 characters long: ['computer', 'electronic', 'device', 'There', 'many', 'things', 'learn', 'like', 'python', 'html', 'java']\n"
     ]
    }
   ],
   "source": [
    "import re\n",
    "def find_long_words(text):\n",
    "  pattern= re.compile(r'\\b\\w{4,}\\b')\n",
    "  long_words=pattern.findall(text)\n",
    "  return long_words\n",
    "\n",
    "sentence=\"computer is an electronic device. There are so many things to learn like python, html,AI, java etc.    \"\n",
    "result= find_long_words(sentence)\n",
    "print(\"words atleast 4 characters long:\", result)"
   ]
  },
  {
   "cell_type": "markdown",
   "id": "d64ee8fd",
   "metadata": {},
   "source": [
    "4.Create a function in python to find all three, four, and five character words in a string.\n",
    "The use of the re.compile() method is mandatory."
   ]
  },
  {
   "cell_type": "code",
   "execution_count": 21,
   "id": "add91d59",
   "metadata": {},
   "outputs": [
    {
     "name": "stdout",
     "output_type": "stream",
     "text": [
      "unique words: ['There ', 'are ', 'many ', 'like ', 'html', 'java']\n"
     ]
    }
   ],
   "source": [
    "import re\n",
    "def find_unique_long_words(text):\n",
    "    pattern=re.compile(r'\\b\\w{3,5}\\W?\\b')\n",
    "    unique_words=pattern.findall(text)\n",
    "    return unique_words\n",
    "\n",
    "sentence=\"There are so many computer languages like python, html, c, java, AI\"\n",
    "result= find_unique_long_words(sentence)\n",
    "print(\"unique words:\", result)"
   ]
  },
  {
   "cell_type": "markdown",
   "id": "df84484b",
   "metadata": {},
   "source": [
    "5.Create a function in Python to remove the parenthesis in a list of strings. The use of the\n",
    "re.compile() method is mandatory.\n",
    "Sample Text: [&quot;example (.com)&quot;, &quot;hr@fliprobo (.com)&quot;, &quot;github (.com)&quot;, &quot;Hello (Data Science World)&quot;,\n",
    "&quot;Data (Scientist)&quot;]\n",
    "Expected Output:\n",
    "example.com\n",
    "hr@fliprobo.com\n",
    "github.com\n",
    "Hello Data Science World\n",
    "\n",
    "Data Scientist"
   ]
  },
  {
   "cell_type": "code",
   "execution_count": 18,
   "id": "eb749742",
   "metadata": {},
   "outputs": [
    {
     "name": "stdout",
     "output_type": "stream",
     "text": [
      "example \n",
      "hr@fliprobo \n",
      "github \n",
      "hello \n",
      "data \n"
     ]
    }
   ],
   "source": [
    "import re\n",
    "\n",
    "def remove_parenthesis(strings):\n",
    "    pattern=re.compile(r'\\([^()]*\\)')\n",
    "    return[pattern.sub('', s)for s in strings]\n",
    "\n",
    "sample_text=[\"example (.com)\", \"hr@fliprobo (.com)\", \"github (.com)\", \"hello (data science world)\", \"data (scientist)\"]\n",
    "result= remove_parenthesis(sample_text)\n",
    "for string in result:\n",
    "    print(string)"
   ]
  },
  {
   "cell_type": "markdown",
   "id": "04da4a67",
   "metadata": {},
   "source": [
    "6.Write a python program to remove the parenthesis area from the text stored in the text\n",
    "file using Regular Expression.\n",
    "Sample Text: [&quot;example (.com)&quot;, &quot;hr@fliprobo (.com)&quot;, &quot;github (.com)&quot;, &quot;Hello (Data Science World)&quot;,\n",
    "&quot;Data (Scientist)&quot;]\n",
    "Expected Output: [&quot;example&quot;, &quot;hr@fliprobo&quot;, &quot;github&quot;, &quot;Hello&quot;, &quot;Data&quot;]\n",
    "Note- Store given sample text in the text file and then to remove the parenthesis area from the text."
   ]
  },
  {
   "cell_type": "code",
   "execution_count": null,
   "id": "bcd4cbf1",
   "metadata": {},
   "outputs": [],
   "source": []
  },
  {
   "cell_type": "markdown",
   "id": "0e0b155c",
   "metadata": {},
   "source": [
    "7.Write a regular expression in Python to split a string into uppercase letters.\n",
    "Sample text: “ImportanceOfRegularExpressionsInPython”\n",
    "Expected Output: [‘Importance’, ‘Of’, ‘Regular’, ‘Expression’, ‘In’, ‘Python’]"
   ]
  },
  {
   "cell_type": "code",
   "execution_count": 35,
   "id": "59b3563c",
   "metadata": {},
   "outputs": [
    {
     "name": "stdout",
     "output_type": "stream",
     "text": [
      "['Importance', 'Of', 'Regular', 'Expressions', 'In', 'Python']\n"
     ]
    }
   ],
   "source": [
    "import re\n",
    "\n",
    "text=\"ImportanceOfRegularExpressionsInPython\"\n",
    "splitted=re.findall('[A-Z][^A-Z]*', text)\n",
    "print(splitted)"
   ]
  },
  {
   "cell_type": "markdown",
   "id": "f820b9bc",
   "metadata": {},
   "source": [
    "8.Create a function in python to insert spaces between words starting with numbers.\n",
    "Sample Text: “RegularExpression1IsAn2ImportantTopic3InPython&quot;\n",
    "Expected Output: RegularExpression 1IsAn 2ImportantTopic 3InPython"
   ]
  },
  {
   "cell_type": "code",
   "execution_count": 36,
   "id": "275b6b24",
   "metadata": {},
   "outputs": [
    {
     "name": "stdout",
     "output_type": "stream",
     "text": [
      "RegularExpression 1IsAn 2ImportantTopic 3InPython\n"
     ]
    }
   ],
   "source": [
    "import re\n",
    "def insert_spaces(text):\n",
    "    result=re.sub(r'(?<=\\D)(?=\\d)', ' ', text)\n",
    "    return result\n",
    "sample_text=\"RegularExpression1IsAn2ImportantTopic3InPython\"\n",
    "output=insert_spaces(sample_text)\n",
    "print(output)"
   ]
  },
  {
   "cell_type": "markdown",
   "id": "3fdfa7ae",
   "metadata": {},
   "source": [
    "9.Create a function in python to insert spaces between words starting with capital letters\n",
    "or with numbers.\n",
    "Sample Text: “RegularExpression1IsAn2ImportantTopic3InPython&quot;\n",
    "Expected Output: RegularExpression 1 IsAn 2 ImportantTopic 3 InPython"
   ]
  },
  {
   "cell_type": "code",
   "execution_count": 39,
   "id": "be4e7d19",
   "metadata": {},
   "outputs": [
    {
     "name": "stdout",
     "output_type": "stream",
     "text": [
      "Regular Expression 1Is An 2Important Topic 3In Python\n"
     ]
    }
   ],
   "source": [
    "import re\n",
    "def insert_spaces(text):\n",
    "    result = re.sub(r'(?<=[a-z\\s])(?=[A-Z0-9])', ' ', text)\n",
    "    return result\n",
    "\n",
    "sample_text = \"RegularExpression1IsAn2ImportantTopic3InPython\"\n",
    "output = insert_spaces(sample_text)\n",
    "print(output)\n"
   ]
  },
  {
   "cell_type": "code",
   "execution_count": null,
   "id": "cbcf7093",
   "metadata": {},
   "outputs": [],
   "source": []
  },
  {
   "cell_type": "code",
   "execution_count": null,
   "id": "e09fd1b9",
   "metadata": {},
   "outputs": [],
   "source": []
  },
  {
   "cell_type": "markdown",
   "id": "f41c4006",
   "metadata": {},
   "source": [
    "11.Write a Python program to match a string that contains only upper and lowercase\n",
    "letters, numbers, and underscores."
   ]
  },
  {
   "cell_type": "code",
   "execution_count": 41,
   "id": "1e125a60",
   "metadata": {},
   "outputs": [
    {
     "name": "stdout",
     "output_type": "stream",
     "text": [
      "string:Abcd123_xyz- Match: True\n",
      "string:Sometext123- Match: True\n",
      "string:invalid!text- Match: False\n",
      "string:abc_123- Match: True\n",
      "string:_underscores- Match: True\n"
     ]
    }
   ],
   "source": [
    "import re\n",
    "def match_string(text):\n",
    "    pattern=re.compile(r'[a-zA-Z0-9_]+$')\n",
    "    result=re.match(pattern, text)\n",
    "    return result is not None\n",
    "strings_to_check=[\"Abcd123_xyz\", \"Sometext123\", \"invalid!text\", \"abc_123\", \"_underscores\"]\n",
    "for text in strings_to_check:\n",
    "    print(f\"string:{text}- Match: {match_string(text)}\")"
   ]
  },
  {
   "cell_type": "markdown",
   "id": "85f996f2",
   "metadata": {},
   "source": [
    "12.Write a Python program where a string will start with a specific number."
   ]
  },
  {
   "cell_type": "code",
   "execution_count": 42,
   "id": "85917306",
   "metadata": {},
   "outputs": [
    {
     "name": "stdout",
     "output_type": "stream",
     "text": [
      "String: 12345Hello - Starts with 12345: True\n",
      "String: 5678World - Starts with 12345: False\n",
      "String: 9876Python - Starts with 12345: False\n",
      "String: Hello12345 - Starts with 12345: False\n"
     ]
    }
   ],
   "source": [
    "import re\n",
    "def starts_with_number(string, number):\n",
    "    pattern = re.compile(r'^' + re.escape(str(number)))\n",
    "    return re.match(pattern, string)\n",
    "\n",
    "strings_to_check = [\"12345Hello\", \"5678World\", \"9876Python\", \"Hello12345\"]\n",
    "\n",
    "number_to_check = 12345\n",
    "\n",
    "for text in strings_to_check:\n",
    "    match = starts_with_number(text, number_to_check)\n",
    "    if match:\n",
    "        print(f\"String: {text} - Starts with {number_to_check}: True\")\n",
    "    else:\n",
    "        print(f\"String: {text} - Starts with {number_to_check}: False\")"
   ]
  },
  {
   "cell_type": "markdown",
   "id": "c6b26e92",
   "metadata": {},
   "source": [
    "13.Write a Python program to remove leading zeros from an IP address"
   ]
  },
  {
   "cell_type": "code",
   "execution_count": 43,
   "id": "cff23a34",
   "metadata": {},
   "outputs": [
    {
     "name": "stdout",
     "output_type": "stream",
     "text": [
      "Original IP: 192.168.001.001\n",
      "IP without leading zeros: 192.168.1.1\n"
     ]
    }
   ],
   "source": [
    "import re\n",
    "def remove_leading_zeros(ip_address):\n",
    "    pattern=re.sub(r'\\b0+(\\d+)', r'\\1', ip_address)\n",
    "    return pattern\n",
    "\n",
    "ip_address=\"192.168.001.001\"\n",
    "result=remove_leading_zeros(ip_address)\n",
    "print(f\"Original IP: {ip_address}\")\n",
    "print(f\"IP without leading zeros: {result}\")"
   ]
  },
  {
   "cell_type": "markdown",
   "id": "c2332327",
   "metadata": {},
   "source": [
    "14.Write a regular expression in python to match a date string in the form of Month name\n",
    "followed by day number and year stored in a text file.\n",
    "Sample text : &#39; On August 15th 1947 that India was declared independent from British colonialism, and\n",
    "the reins of control were handed over to the leaders of the Country’.\n",
    "Expected Output- August 15th 1947\n",
    "Note- Store given sample text in the text file and then extract the date string asked format."
   ]
  },
  {
   "cell_type": "code",
   "execution_count": 19,
   "id": "e9e1d271",
   "metadata": {
    "scrolled": true
   },
   "outputs": [
    {
     "name": "stdout",
     "output_type": "stream",
     "text": [
      "August 15th 1947\n"
     ]
    }
   ],
   "source": [
    "import re\n",
    "\n",
    "sample_text= 'On August 15th 1947 that India was declared independent from British colonialism, and the reins of control were handed over to the leaders of the country'\n",
    "\n",
    "pattern = r'\\b(?:January|February|March|April|May|June|July|August|September|October|November|December)\\s+\\d{1,2}(?:st|nd|rd|th)?\\s+\\d{4}\\b'\n",
    "\n",
    "matches = re.findall(pattern, sample_text)\n",
    "\n",
    "for match in matches:\n",
    "    print(match)\n"
   ]
  },
  {
   "cell_type": "markdown",
   "id": "525bca7f",
   "metadata": {},
   "source": [
    "15.Write a Python program to search some literals strings in a string.\n",
    "Sample text :The quick brown fox jumps over the lazy dog.\n",
    "Searched words : fox, dog, horse"
   ]
  },
  {
   "cell_type": "code",
   "execution_count": 20,
   "id": "ba5c012e",
   "metadata": {},
   "outputs": [
    {
     "name": "stdout",
     "output_type": "stream",
     "text": [
      "searched words: ['fox', 'dog']\n"
     ]
    }
   ],
   "source": [
    "def search_words(text, words):\n",
    "    found_words=[]\n",
    "    for word in words:\n",
    "        if word in text:\n",
    "            found_words.append(word)\n",
    "    return found_words\n",
    "\n",
    "sample_text=\"the quick brown fox jumps over the lazy dog\"\n",
    "searched_words=['fox', 'dog', 'horse']\n",
    "\n",
    "found=search_words(sample_text, searched_words)\n",
    "print(\"searched words:\", found)"
   ]
  },
  {
   "cell_type": "markdown",
   "id": "2d83fec7",
   "metadata": {},
   "source": [
    "16.Write a Python program to search a literals string in a string and also find the location\n",
    "within the original string where the pattern occurs\n",
    "Sample text : The quick brown fox jumps over the lazy dog.\n",
    "Searched words : fox"
   ]
  },
  {
   "cell_type": "code",
   "execution_count": 4,
   "id": "680105b9",
   "metadata": {
    "scrolled": true
   },
   "outputs": [
    {
     "name": "stdout",
     "output_type": "stream",
     "text": [
      "the word 'fox' is found at locations: [16]\n"
     ]
    }
   ],
   "source": [
    "import re \n",
    "def search_words_with_location(text, word):\n",
    "    pattern= re.compile(r'\\b'+re.escape(word)+r'\\b')\n",
    "    matches=pattern.finditer(text)\n",
    "    locations=[match.start()for match in matches]\n",
    "    return locations\n",
    "\n",
    "sample_text=\"the quick brown fox jumps over the lazy dog.\"\n",
    "searched_word='fox'\n",
    "\n",
    "found_locations=search_words_with_location(sample_text, searched_word)\n",
    "\n",
    "if found_locations:\n",
    "    print(f\"the word '{searched_word}' is found at locations: {found_locations}\")\n",
    "else:\n",
    "    print(f\"the word '{searched_word}' is not found in the text.\")\n",
    "    \n"
   ]
  },
  {
   "cell_type": "markdown",
   "id": "547c85ce",
   "metadata": {},
   "source": [
    "17. Write a Python program to find the substrings within a string.\n",
    "Sample text : Python exercises, PHP exercises, C# exercises\n",
    "Pattern :exercises."
   ]
  },
  {
   "cell_type": "code",
   "execution_count": 8,
   "id": "0f87a702",
   "metadata": {},
   "outputs": [
    {
     "name": "stdout",
     "output_type": "stream",
     "text": [
      "the substrings matching the pattern are: ['exercises', 'exercises', 'exercises']\n"
     ]
    }
   ],
   "source": [
    "import re\n",
    "\n",
    "def find_substrings(text, pattern):\n",
    "    matches= re.finditer(pattern, text)\n",
    "    substrings= [match.group(0) for match in matches]\n",
    "    return substrings\n",
    "\n",
    "sample_text=\"python exercises, PHP exercises, C# exercises\"\n",
    "search_pattern= r'exercises'\n",
    "\n",
    "found_substrings= find_substrings(sample_text, search_pattern)\n",
    "\n",
    "if found_substrings:\n",
    "    print(f\"the substrings matching the pattern are: {found_substrings}\")\n",
    "else:\n",
    "    print(\"no substrings found.\")"
   ]
  },
  {
   "cell_type": "markdown",
   "id": "033a4523",
   "metadata": {},
   "source": [
    "18. Write a Python program to find the occurrence and position of the substrings within a\n",
    "string."
   ]
  },
  {
   "cell_type": "code",
   "execution_count": 16,
   "id": "360150db",
   "metadata": {},
   "outputs": [
    {
     "name": "stdout",
     "output_type": "stream",
     "text": [
      "the substring 'Python' occurs 3 times at positions:\n",
      "occurrence 1: Position0\n",
      "occurrence 2: Position20\n",
      "occurrence 3: Position45\n"
     ]
    }
   ],
   "source": [
    "def find_occurrences_positions(text, substring):\n",
    "    return[i for i in range(len(text))if text.startswith(substring, i)]\n",
    "\n",
    "sample_text= \"Python is powerful. Python is easy to learn. Python programming is fun.\"\n",
    "searched_substring= \"Python\"\n",
    "\n",
    "occurrences= find_occurrences_positions(sample_text, searched_substring)\n",
    "\n",
    "if occurrences:\n",
    "    print(f\"the substring '{searched_substring}' occurs {len(occurrences)} times at positions:\")\n",
    "    for index, position in enumerate(occurrences, start=1):\n",
    "        print(f\"occurrence {index}: Position{position}\")\n",
    "else:\n",
    "    print(f\"the substring '{searched_substring}' does not occur in the text\")"
   ]
  },
  {
   "cell_type": "markdown",
   "id": "35b827ef",
   "metadata": {},
   "source": [
    "19. Write a Python program to convert a date of yyyy-mm-dd format to dd-mm-yyyy\n",
    "format."
   ]
  },
  {
   "cell_type": "code",
   "execution_count": 19,
   "id": "4015269a",
   "metadata": {},
   "outputs": [
    {
     "name": "stdout",
     "output_type": "stream",
     "text": [
      "the converted date is: 15-12-2023\n"
     ]
    }
   ],
   "source": [
    "from datetime import datetime \n",
    "\n",
    "date_str= '2023-12-15'\n",
    "\n",
    "converted_date= datetime.strptime(date_str, '%Y-%m-%d').strftime('%d-%m-%Y')\n",
    "print(f\"the converted date is: {converted_date}\")"
   ]
  },
  {
   "cell_type": "markdown",
   "id": "0a448da6",
   "metadata": {},
   "source": [
    "20.Create a function in python to find all decimal numbers with a precision of 1 or 2 in a\n",
    "string. The use of the re.compile() method is mandatory.\n",
    "Sample Text:;01.12 0132.123 2.27.25, 0.25]"
   ]
  },
  {
   "cell_type": "code",
   "execution_count": 20,
   "id": "7baef719",
   "metadata": {},
   "outputs": [
    {
     "name": "stdout",
     "output_type": "stream",
     "text": [
      "expected output: ['01.12', '145.8', '3.01', '27.25', '0.25']\n"
     ]
    }
   ],
   "source": [
    "import re\n",
    "\n",
    "def find_decimal_numbers(text):\n",
    "    pattern=re.compile(r'\\b\\d+\\.\\d{1,2}\\b')\n",
    "    decimal_numbers=pattern.findall(text)\n",
    "    return decimal_numbers\n",
    "\n",
    "sample_text= \"01.12 0132.123 2.31875 145.8 3.01 27.25 0.25\"\n",
    "\n",
    "result=find_decimal_numbers(sample_text)\n",
    "print(\"expected output:\", result)"
   ]
  },
  {
   "cell_type": "markdown",
   "id": "91b62084",
   "metadata": {},
   "source": [
    "21.Write a Python program to separate and print the numbers and their position of a\n",
    "given string."
   ]
  },
  {
   "cell_type": "code",
   "execution_count": 22,
   "id": "5a1d4301",
   "metadata": {},
   "outputs": [
    {
     "name": "stdout",
     "output_type": "stream",
     "text": [
      "Number; 123, Position: 45\n",
      "Number; 456, Position: 45\n",
      "Number; 789, Position: 45\n"
     ]
    }
   ],
   "source": [
    "import re\n",
    "\n",
    "def find_numbers_with_positions(text):\n",
    "    pattern= re.compile(r'\\d+')\n",
    "    matches=pattern.finditer(text)\n",
    "    numbers_with_positions=[(match.group(), match.start())for match in matches]\n",
    "    return numbers_with_positions\n",
    "\n",
    "sample_text=\"abc 123 def 456 ghi 789\"\n",
    "\n",
    "result= find_numbers_with_positions(sample_text)\n",
    "for number, positions in result:\n",
    "    print(f\"Number; {number}, Position: {position}\")\n",
    "    \n",
    "                        "
   ]
  },
  {
   "cell_type": "markdown",
   "id": "d15e3a0d",
   "metadata": {},
   "source": [
    "22. Write a regular expression in python program to extract maximum/largest numeric\n",
    "value from a string.\n",
    "Sample Text: My marks in each semester are: 947, 896, 926, 524, 734, 950, 642\n",
    "Expected Output: 950"
   ]
  },
  {
   "cell_type": "code",
   "execution_count": 23,
   "id": "19b17da9",
   "metadata": {},
   "outputs": [
    {
     "name": "stdout",
     "output_type": "stream",
     "text": [
      "expected output: 950\n"
     ]
    }
   ],
   "source": [
    "import re \n",
    "def extract_maximum_numeric_value(text):\n",
    "    numbers= re.findall(r'\\b\\d+\\b', text)\n",
    "    if numbers:\n",
    "        maximum_value=max(map(int, numbers))\n",
    "        return maximum_value\n",
    "    return None\n",
    "\n",
    "sample_text=\"my marks in each semester are: 947, 896, 926, 524, 734, 950, 642\"\n",
    "max_value= extract_maximum_numeric_value(sample_text)\n",
    "if max_value is not None:\n",
    "    print(f\"expected output: {max_value}\")\n",
    "else:\n",
    "    print(\"no numeric values found in the text.\")"
   ]
  },
  {
   "cell_type": "markdown",
   "id": "c23e3e27",
   "metadata": {},
   "source": [
    "23.Create a function in python to insert spaces between words starting with capital\n",
    "letters.\n",
    "Sample Text: “RegularExpressionIsAnImportantTopicInPython\n",
    "Expected Output: Regular Expression Is An Important Topic In Python"
   ]
  },
  {
   "cell_type": "code",
   "execution_count": 24,
   "id": "eb247ccd",
   "metadata": {},
   "outputs": [
    {
     "name": "stdout",
     "output_type": "stream",
     "text": [
      "expected output: Regular Expression Is An Important Topic In Python\n"
     ]
    }
   ],
   "source": [
    "def insert_spaces(text):\n",
    "    words=[]\n",
    "    start=0\n",
    "    for end in range(1, len(text)):\n",
    "        if text[end].isupper():\n",
    "            words.append(text[start:end])\n",
    "            start=end\n",
    "    words.append(text[start:])\n",
    "    return ' '.join(words)\n",
    "\n",
    "sample_text= \"RegularExpressionIsAnImportantTopicInPython\"\n",
    "result=insert_spaces(sample_text)\n",
    "print(\"expected output:\", result)"
   ]
  },
  {
   "cell_type": "markdown",
   "id": "1fad5a5b",
   "metadata": {},
   "source": [
    "24.Python regex to find sequences of one upper case letter followed by lower case letters"
   ]
  },
  {
   "cell_type": "code",
   "execution_count": 1,
   "id": "a0cb9286",
   "metadata": {},
   "outputs": [
    {
     "name": "stdout",
     "output_type": "stream",
     "text": [
      "['Computer', 'Invented', 'Charles', 'Babbage']\n"
     ]
    }
   ],
   "source": [
    "import re\n",
    "text=\"Computer was Invented by Charles Babbage.\"\n",
    "pattern=r'[A-Z][a-z]+'\n",
    "sequence=re.findall(pattern, text)\n",
    "print(sequence)"
   ]
  },
  {
   "cell_type": "markdown",
   "id": "abd6ba5a",
   "metadata": {},
   "source": [
    "25.Write a Python program to remove continuous duplicate words from Sentence using\n",
    "Regular Expression.\n",
    "Sample Text: \"Hello hello world world\"\n",
    "Expected Output: Hello hello world"
   ]
  },
  {
   "cell_type": "code",
   "execution_count": 3,
   "id": "03f198d7",
   "metadata": {},
   "outputs": [
    {
     "name": "stdout",
     "output_type": "stream",
     "text": [
      "Hello hello world world\n"
     ]
    }
   ],
   "source": [
    "import re\n",
    "\n",
    "def remove_continuous_duplicates(sentence):\n",
    "    pattern=r'\\b(\\w+)(\\s+\\1)+b'\n",
    "    cleaned_sentence=re.sub(pattern, r'\\1', sentence, flags=re.IGNORECASE)\n",
    "    return cleaned_sentence \n",
    "\n",
    "sample_text=\"Hello hello world world\"\n",
    "result=remove_continuous_duplicates(sample_text)\n",
    "print(result)"
   ]
  },
  {
   "cell_type": "markdown",
   "id": "eb960a0f",
   "metadata": {},
   "source": [
    "26.Write a python program using RegEx to accept string ending with alphanumeric\n",
    "character."
   ]
  },
  {
   "cell_type": "code",
   "execution_count": 5,
   "id": "af81c89a",
   "metadata": {},
   "outputs": [
    {
     "name": "stdout",
     "output_type": "stream",
     "text": [
      " \"Hello123\" does not end with an alphanumeric character\n",
      " \"world@\" ends with an alphanumeric character\n",
      " \"wlcome to123\" does not end with an alphanumeric character\n",
      " \"Alpha123!\" ends with an alphanumeric character\n",
      " \"123456\" does not end with an alphanumeric character\n",
      " \"spaces\" does not end with an alphanumeric character\n"
     ]
    }
   ],
   "source": [
    "import re\n",
    "def ends_with_alphanumeric(input_string):\n",
    "    pattern=r'\\W$'\n",
    "    match=re.search(pattern, input_string)\n",
    "    if match:\n",
    "        return True\n",
    "    return False\n",
    "\n",
    "test_string=[\"Hello123\", \"world@\",\"wlcome to123\", \"Alpha123!\", \"123456\", \"spaces\"]\n",
    "\n",
    "for test_string in test_string:\n",
    "    if ends_with_alphanumeric(test_string):\n",
    "        print(f' \"{test_string}\" ends with an alphanumeric character')\n",
    "    else:\n",
    "        print(f' \"{test_string}\" does not end with an alphanumeric character')"
   ]
  },
  {
   "cell_type": "markdown",
   "id": "62a63082",
   "metadata": {},
   "source": [
    "27.Write a python program using RegEx to extract the hashtags.\n",
    "Sample Text: \"\"\"RT @kapil_kausik: #Doltiwal I mean #xyzabc is \"hurt\" by #Demonetization as the same has rendered USELESS <ed><U+00A0><U+00BD><ed><U+00B1><U+0089> \"acquired funds\" No wo\"\"\"\n",
    "Expected Output:['#Doltiwal', '#xyzabc', '#Demonetization']\n"
   ]
  },
  {
   "cell_type": "code",
   "execution_count": 6,
   "id": "cf8c1eef",
   "metadata": {},
   "outputs": [
    {
     "name": "stdout",
     "output_type": "stream",
     "text": [
      "['#Doltiwal', '#xyzabc', '#Demonetization']\n"
     ]
    }
   ],
   "source": [
    "import re \n",
    "def extract_hashtags(text):\n",
    "    pattern= r'#\\w+'\n",
    "    hashtags=re.findall(pattern, text)\n",
    "    return hashtags\n",
    "\n",
    "sample_text=\"\"\"RT @kapil_kausik: #Doltiwal I mean #xyzabc is \"hurt\" by #Demonetization as the same has rendered USELESS <ed><U+00A0><U+00BD><ed><U+00B1><U+0089> \"acquired funds\" No wo\"\"\"\n",
    "result= extract_hashtags(sample_text)\n",
    "print(result)"
   ]
  },
  {
   "cell_type": "markdown",
   "id": "75d0bee4",
   "metadata": {},
   "source": [
    "28.Write a python program using RegEx to remove <U+..> like symbols\n",
    "Check the below sample text, there are strange symbols something of the sort <U+..> all over the place. You need to come up with a general Regex expression that will cover all such symbols.\n",
    "Sample Text: \"@Jags123456 Bharat band on 28??<ed><U+00A0><U+00BD><ed><U+00B8><U+0082>Those who  are protesting #demonetization  are all different party leaders\"\n",
    "Expected Output:@Jags123456 Bharat band on 28??<ed><ed>Those who  are protesting #demonetization  are all different party leaders\n",
    " "
   ]
  },
  {
   "cell_type": "code",
   "execution_count": 10,
   "id": "cd0343a2",
   "metadata": {
    "scrolled": true
   },
   "outputs": [
    {
     "name": "stdout",
     "output_type": "stream",
     "text": [
      "@Jags123456 Bharat band on 28??<ed>  <ed>  Those who  are protesting #demonetization  are all different party leaders\n"
     ]
    }
   ],
   "source": [
    "import re \n",
    "def remove_unicode_symbols(text):\n",
    "    pattern=r'<U\\+\\w{4}>'\n",
    "    cleaned_text= re.sub(pattern, ' ', text)\n",
    "    return cleaned_text\n",
    "\n",
    "sample_text=\"@Jags123456 Bharat band on 28??<ed><U+00A0><U+00BD><ed><U+00B8><U+0082>Those who  are protesting #demonetization  are all different party leaders\"\n",
    "result= remove_unicode_symbols(sample_text)\n",
    "print(result)"
   ]
  },
  {
   "cell_type": "markdown",
   "id": "197374a9",
   "metadata": {},
   "source": [
    "29.Write a python program to extract dates from the text stored in the text file.\n",
    "Sample Text:Ron was born on 12-09-1992 and he was admitted to school 15-12-1999.\n",
    "Note- Store this sample text in the file and then extract dates\n"
   ]
  },
  {
   "cell_type": "code",
   "execution_count": 16,
   "id": "b8e6c3b5",
   "metadata": {
    "scrolled": true
   },
   "outputs": [
    {
     "ename": "FileNotFoundError",
     "evalue": "[Errno 2] No such file or directory: 'C:/full/path/to/sample_text.txt'",
     "output_type": "error",
     "traceback": [
      "\u001b[1;31m---------------------------------------------------------------------------\u001b[0m",
      "\u001b[1;31mFileNotFoundError\u001b[0m                         Traceback (most recent call last)",
      "Cell \u001b[1;32mIn[16], line 10\u001b[0m\n\u001b[0;32m      7\u001b[0m         \u001b[38;5;28;01mreturn\u001b[39;00m dates\n\u001b[0;32m      9\u001b[0m file_path\u001b[38;5;241m=\u001b[39m\u001b[38;5;124m'\u001b[39m\u001b[38;5;124mC:/full/path/to/sample_text.txt\u001b[39m\u001b[38;5;124m'\u001b[39m\n\u001b[1;32m---> 10\u001b[0m extracted_dates\u001b[38;5;241m=\u001b[39m\u001b[43mextract_dates_from_text\u001b[49m\u001b[43m(\u001b[49m\u001b[43mfile_path\u001b[49m\u001b[43m)\u001b[49m\n\u001b[0;32m     11\u001b[0m \u001b[38;5;28mprint\u001b[39m(\u001b[38;5;124m\"\u001b[39m\u001b[38;5;124mExtracted dates:\u001b[39m\u001b[38;5;124m\"\u001b[39m, extracted_dates)\n",
      "Cell \u001b[1;32mIn[16], line 3\u001b[0m, in \u001b[0;36mextract_dates_from_text\u001b[1;34m(file_name)\u001b[0m\n\u001b[0;32m      2\u001b[0m \u001b[38;5;28;01mdef\u001b[39;00m \u001b[38;5;21mextract_dates_from_text\u001b[39m(file_name):\n\u001b[1;32m----> 3\u001b[0m     \u001b[38;5;28;01mwith\u001b[39;00m \u001b[38;5;28;43mopen\u001b[39;49m\u001b[43m(\u001b[49m\u001b[43mfile_name\u001b[49m\u001b[43m,\u001b[49m\u001b[43m \u001b[49m\u001b[38;5;124;43m'\u001b[39;49m\u001b[38;5;124;43mr\u001b[39;49m\u001b[38;5;124;43m'\u001b[39;49m\u001b[43m)\u001b[49m\u001b[38;5;28;01mas\u001b[39;00m file:\n\u001b[0;32m      4\u001b[0m         text\u001b[38;5;241m=\u001b[39mfile\u001b[38;5;241m.\u001b[39mread()\n\u001b[0;32m      5\u001b[0m         pattern\u001b[38;5;241m=\u001b[39m\u001b[38;5;124mr\u001b[39m\u001b[38;5;124m'\u001b[39m\u001b[38;5;124m\\\u001b[39m\u001b[38;5;124mb\u001b[39m\u001b[38;5;124m\\\u001b[39m\u001b[38;5;124md\u001b[39m\u001b[38;5;132;01m{2}\u001b[39;00m\u001b[38;5;124m-\u001b[39m\u001b[38;5;124m\\\u001b[39m\u001b[38;5;124md\u001b[39m\u001b[38;5;132;01m{2}\u001b[39;00m\u001b[38;5;124m-\u001b[39m\u001b[38;5;124m\\\u001b[39m\u001b[38;5;124md\u001b[39m\u001b[38;5;132;01m{4}\u001b[39;00m\u001b[38;5;124m\\\u001b[39m\u001b[38;5;124mb\u001b[39m\u001b[38;5;124m'\u001b[39m\n",
      "File \u001b[1;32m~\\anaconda3\\lib\\site-packages\\IPython\\core\\interactiveshell.py:282\u001b[0m, in \u001b[0;36m_modified_open\u001b[1;34m(file, *args, **kwargs)\u001b[0m\n\u001b[0;32m    275\u001b[0m \u001b[38;5;28;01mif\u001b[39;00m file \u001b[38;5;129;01min\u001b[39;00m {\u001b[38;5;241m0\u001b[39m, \u001b[38;5;241m1\u001b[39m, \u001b[38;5;241m2\u001b[39m}:\n\u001b[0;32m    276\u001b[0m     \u001b[38;5;28;01mraise\u001b[39;00m \u001b[38;5;167;01mValueError\u001b[39;00m(\n\u001b[0;32m    277\u001b[0m         \u001b[38;5;124mf\u001b[39m\u001b[38;5;124m\"\u001b[39m\u001b[38;5;124mIPython won\u001b[39m\u001b[38;5;124m'\u001b[39m\u001b[38;5;124mt let you open fd=\u001b[39m\u001b[38;5;132;01m{\u001b[39;00mfile\u001b[38;5;132;01m}\u001b[39;00m\u001b[38;5;124m by default \u001b[39m\u001b[38;5;124m\"\u001b[39m\n\u001b[0;32m    278\u001b[0m         \u001b[38;5;124m\"\u001b[39m\u001b[38;5;124mas it is likely to crash IPython. If you know what you are doing, \u001b[39m\u001b[38;5;124m\"\u001b[39m\n\u001b[0;32m    279\u001b[0m         \u001b[38;5;124m\"\u001b[39m\u001b[38;5;124myou can use builtins\u001b[39m\u001b[38;5;124m'\u001b[39m\u001b[38;5;124m open.\u001b[39m\u001b[38;5;124m\"\u001b[39m\n\u001b[0;32m    280\u001b[0m     )\n\u001b[1;32m--> 282\u001b[0m \u001b[38;5;28;01mreturn\u001b[39;00m io_open(file, \u001b[38;5;241m*\u001b[39margs, \u001b[38;5;241m*\u001b[39m\u001b[38;5;241m*\u001b[39mkwargs)\n",
      "\u001b[1;31mFileNotFoundError\u001b[0m: [Errno 2] No such file or directory: 'C:/full/path/to/sample_text.txt'"
     ]
    }
   ],
   "source": [
    "import re\n",
    "def extract_dates_from_text(file_name):\n",
    "    with open(file_name, 'r')as file:\n",
    "        text=file.read()\n",
    "        pattern=r'\\b\\d{2}-\\d{2}-\\d{4}\\b'\n",
    "        dates=re.findall(pattern, text)\n",
    "        return dates\n",
    "    \n",
    "file_path='C:/full/path/to/sample_text.txt'\n",
    "extracted_dates=extract_dates_from_text(file_path)\n",
    "print(\"Extracted dates:\", extracted_dates)"
   ]
  },
  {
   "cell_type": "markdown",
   "id": "ca9aa576",
   "metadata": {},
   "source": [
    "30.Create a function inpython to remove all words from a string of length between 2 and 4.\n",
    "The use of the re.compile() method is mandatory.\n",
    "Sample Text:\"The following example creates an ArrayList with a capacity of 50 elements. 4 elements are then added to the ArrayList and the ArrayList is trimmed accordingly.\"\n",
    "Expected Output:following example creates ArrayList a capacity elements. 4 elements added ArrayList ArrayList trimmed accordingly\n"
   ]
  },
  {
   "cell_type": "code",
   "execution_count": 17,
   "id": "c035d8ff",
   "metadata": {},
   "outputs": [
    {
     "name": "stdout",
     "output_type": "stream",
     "text": [
      " following example creates  ArrayList  a capacity   elements. 4 elements   added   ArrayList   ArrayList  trimmed accordingly.\n"
     ]
    }
   ],
   "source": [
    "import re\n",
    "\n",
    "def remove_words_of_length_2_to_4(text):\n",
    "    pattern = re.compile(r'\\b\\w{2,4}\\b')  \n",
    "    return pattern.sub('', text)\n",
    "\n",
    "sample_text = \"The following example creates an ArrayList with a capacity of 50 elements. 4 elements are then added to the ArrayList and the ArrayList is trimmed accordingly.\"\n",
    "\n",
    "result = remove_words_of_length_2_to_4(sample_text)\n",
    "print(result)\n"
   ]
  },
  {
   "cell_type": "code",
   "execution_count": null,
   "id": "90fdaab2",
   "metadata": {},
   "outputs": [],
   "source": []
  }
 ],
 "metadata": {
  "kernelspec": {
   "display_name": "Python 3 (ipykernel)",
   "language": "python",
   "name": "python3"
  },
  "language_info": {
   "codemirror_mode": {
    "name": "ipython",
    "version": 3
   },
   "file_extension": ".py",
   "mimetype": "text/x-python",
   "name": "python",
   "nbconvert_exporter": "python",
   "pygments_lexer": "ipython3",
   "version": "3.10.9"
  }
 },
 "nbformat": 4,
 "nbformat_minor": 5
}
