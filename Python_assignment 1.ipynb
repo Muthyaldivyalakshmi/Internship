{
 "cells": [
  {
   "cell_type": "markdown",
   "id": "f01911aa",
   "metadata": {},
   "source": [
    "# Python assignment"
   ]
  },
  {
   "cell_type": "markdown",
   "id": "8157a821",
   "metadata": {},
   "source": [
    "1. Which of the following operators is used to calculate remainder in a division?\n",
    "A) # B) &\n",
    "C) % D) $"
   ]
  },
  {
   "cell_type": "code",
   "execution_count": 6,
   "id": "114d9f45",
   "metadata": {},
   "outputs": [
    {
     "data": {
      "text/plain": [
       "0"
      ]
     },
     "execution_count": 6,
     "metadata": {},
     "output_type": "execute_result"
    }
   ],
   "source": [
    "#the answer is %\n",
    "6%3 #example"
   ]
  },
  {
   "cell_type": "markdown",
   "id": "d6cb4311",
   "metadata": {},
   "source": [
    "2.In python 2//3 is equal to?\n",
    "A) 0.666 B) 0\n",
    "C) 1 D) 0.67"
   ]
  },
  {
   "cell_type": "code",
   "execution_count": 7,
   "id": "09e2ea61",
   "metadata": {},
   "outputs": [
    {
     "data": {
      "text/plain": [
       "0"
      ]
     },
     "execution_count": 7,
     "metadata": {},
     "output_type": "execute_result"
    }
   ],
   "source": [
    "2//3"
   ]
  },
  {
   "cell_type": "markdown",
   "id": "6dc5357f",
   "metadata": {},
   "source": [
    "3. In python, 6<<2 is equal to?\n",
    "A) 36 B) 10\n",
    "C) 24 D) 45"
   ]
  },
  {
   "cell_type": "code",
   "execution_count": 8,
   "id": "f6aa5692",
   "metadata": {},
   "outputs": [
    {
     "data": {
      "text/plain": [
       "24"
      ]
     },
     "execution_count": 8,
     "metadata": {},
     "output_type": "execute_result"
    }
   ],
   "source": [
    "6<<2"
   ]
  },
  {
   "cell_type": "markdown",
   "id": "c31ed89c",
   "metadata": {},
   "source": [
    "4. In python, 6&2 will give which of the following as output?\n",
    "A) 2 B) True\n",
    "C) False D) 0"
   ]
  },
  {
   "cell_type": "code",
   "execution_count": 9,
   "id": "d343ecf2",
   "metadata": {},
   "outputs": [
    {
     "data": {
      "text/plain": [
       "2"
      ]
     },
     "execution_count": 9,
     "metadata": {},
     "output_type": "execute_result"
    }
   ],
   "source": [
    "6&2"
   ]
  },
  {
   "cell_type": "markdown",
   "id": "4057b723",
   "metadata": {},
   "source": [
    "5. In python, 6|2 will give which of the following as output?\n",
    "A) 2 B) 4\n",
    "C) 0 D) 6"
   ]
  },
  {
   "cell_type": "code",
   "execution_count": 10,
   "id": "85a47767",
   "metadata": {},
   "outputs": [
    {
     "data": {
      "text/plain": [
       "6"
      ]
     },
     "execution_count": 10,
     "metadata": {},
     "output_type": "execute_result"
    }
   ],
   "source": [
    "6|2"
   ]
  },
  {
   "cell_type": "markdown",
   "id": "e081c210",
   "metadata": {},
   "source": [
    "6. What does the finally keyword denotes in python?\n",
    "A) It is used to mark the end of the code\n",
    "B) It encloses the lines of code which will be executed if any error occurs while executing the lines of code in the try block.\n",
    "C) the finally block will be executed no matter if the try block raises an error or not.\n",
    "D) None of the above"
   ]
  },
  {
   "cell_type": "code",
   "execution_count": 11,
   "id": "3d0532c9",
   "metadata": {},
   "outputs": [
    {
     "data": {
      "text/plain": [
       "'the finally block will be executed no matter if the try block raises an error or not'"
      ]
     },
     "execution_count": 11,
     "metadata": {},
     "output_type": "execute_result"
    }
   ],
   "source": [
    "\"the finally block will be executed no matter if the try block raises an error or not\""
   ]
  },
  {
   "cell_type": "markdown",
   "id": "446f362b",
   "metadata": {},
   "source": [
    "7. What does raise keyword is used for in python?\n",
    "A) It is used to raise an exception. B) It is used to define lambda function\n",
    "C) it's not a keyword in python. D) None of the above"
   ]
  },
  {
   "cell_type": "code",
   "execution_count": 12,
   "id": "763b2932",
   "metadata": {},
   "outputs": [
    {
     "data": {
      "text/plain": [
       "'it is used to raise an exception'"
      ]
     },
     "execution_count": 12,
     "metadata": {},
     "output_type": "execute_result"
    }
   ],
   "source": [
    "\"it is used to raise an exception\""
   ]
  },
  {
   "cell_type": "markdown",
   "id": "e8b5bdb0",
   "metadata": {},
   "source": [
    "8. Which of the following is a common use case of yield keyword in python?\n",
    "A) in defining an iterator B) while defining a lambda function\n",
    "C) in defining a generator D) in for loop."
   ]
  },
  {
   "cell_type": "code",
   "execution_count": 13,
   "id": "d0f8a635",
   "metadata": {},
   "outputs": [
    {
     "data": {
      "text/plain": [
       "'in defining a generator'"
      ]
     },
     "execution_count": 13,
     "metadata": {},
     "output_type": "execute_result"
    }
   ],
   "source": [
    "'in defining a generator'"
   ]
  },
  {
   "cell_type": "markdown",
   "id": "c9aafd03",
   "metadata": {},
   "source": [
    "9.Which of the following are the valid variable names?\n",
    "A) _abc B) 1abc\n",
    "C) abc2 D) None of the above"
   ]
  },
  {
   "cell_type": "code",
   "execution_count": 14,
   "id": "56b33154",
   "metadata": {},
   "outputs": [
    {
     "data": {
      "text/plain": [
       "'none of the above'"
      ]
     },
     "execution_count": 14,
     "metadata": {},
     "output_type": "execute_result"
    }
   ],
   "source": [
    "'none of the above'"
   ]
  },
  {
   "cell_type": "markdown",
   "id": "70a83673",
   "metadata": {},
   "source": [
    "10. Which of the following are the keywords in python?\n",
    "A) yield B) raise\n",
    "C) look-in D) all of the above"
   ]
  },
  {
   "cell_type": "code",
   "execution_count": 15,
   "id": "5f0330ac",
   "metadata": {},
   "outputs": [
    {
     "data": {
      "text/plain": [
       "'yield and raise'"
      ]
     },
     "execution_count": 15,
     "metadata": {},
     "output_type": "execute_result"
    }
   ],
   "source": [
    "'yield and raise'"
   ]
  },
  {
   "cell_type": "markdown",
   "id": "f45ea29b",
   "metadata": {},
   "source": [
    "11. Write a python program to find the factorial of a number"
   ]
  },
  {
   "cell_type": "code",
   "execution_count": 16,
   "id": "0a6e399d",
   "metadata": {},
   "outputs": [
    {
     "name": "stdout",
     "output_type": "stream",
     "text": [
      "enter a number to find its factorial: 78\n",
      "The factorial of is 11324281178206297831457521158732046228731749579488251990048962825668835325234200766245086213177344000000000000000000\n"
     ]
    }
   ],
   "source": [
    "def factorial(n):\n",
    "    if n==0 or n==1:\n",
    "        return 1\n",
    "    else:\n",
    "        return n*factorial(n-1)\n",
    "    \n",
    "num=int(input(\"enter a number to find its factorial: \"))\n",
    "if num<0:\n",
    "    print(\"Factorial is not defined for negative numbers.\")\n",
    "else:\n",
    "    result= factorial(num)\n",
    "    print(\"The factorial of\", \"is\", result)\n",
    "    "
   ]
  },
  {
   "cell_type": "markdown",
   "id": "55e414b1",
   "metadata": {},
   "source": [
    "12. Write a python program to find whether a number is prime or composite"
   ]
  },
  {
   "cell_type": "code",
   "execution_count": 17,
   "id": "0b317c3c",
   "metadata": {},
   "outputs": [
    {
     "name": "stdout",
     "output_type": "stream",
     "text": [
      "enter a number to check if its prime orcomposite: 51\n",
      "51 is a composite number\n"
     ]
    }
   ],
   "source": [
    "def is_prime(num):\n",
    "    if num<2:\n",
    "        return False\n",
    "    for i in range(2,int(num**0.5)+1):\n",
    "        if num %i==0:\n",
    "            return False\n",
    "    return True\n",
    "\n",
    "number=int(input(\"enter a number to check if its prime orcomposite: \"))\n",
    "if is_prime(number):\n",
    "    print(number, \"is a prime number\")\n",
    "else:\n",
    "    print(number, \"is a composite number\")\n"
   ]
  },
  {
   "cell_type": "markdown",
   "id": "2bfb9d60",
   "metadata": {},
   "source": [
    "13. Write a python program to check whether a given string is palindrome or not"
   ]
  },
  {
   "cell_type": "code",
   "execution_count": 1,
   "id": "a8b2bf7c",
   "metadata": {},
   "outputs": [
    {
     "name": "stdout",
     "output_type": "stream",
     "text": [
      "Enter a string: \"Malayalam\"\n",
      " \"\"Malayalam\"\" is a palindrome.\n"
     ]
    }
   ],
   "source": [
    "def is_palindrome(s):\n",
    "    s=s.replace(\" \", \"\").lower()\n",
    "    return s==s[::-1]\n",
    "\n",
    "user_input=input(\"Enter a string: \")\n",
    "if is_palindrome(user_input):\n",
    "    print(f' \"{user_input}\" is a palindrome.')\n",
    "else:\n",
    "    print(f' \"{user_input}\" is not a palindrome.')"
   ]
  },
  {
   "cell_type": "markdown",
   "id": "536bceff",
   "metadata": {},
   "source": [
    "14. Write a Python program to get the third side of right-angled triangle from two given sides."
   ]
  },
  {
   "cell_type": "code",
   "execution_count": 2,
   "id": "bdc830a6",
   "metadata": {},
   "outputs": [
    {
     "name": "stdout",
     "output_type": "stream",
     "text": [
      "Enter the length of side A: 75\n",
      "Enter the length of side B: 40\n",
      "The length of the third side (hypotenuse) is: 85.00\n"
     ]
    }
   ],
   "source": [
    "def find_third_side(side1, side2):\n",
    "    third_side=(side1**2+side2**2)**0.5\n",
    "    return third_side\n",
    "\n",
    "side_a=float(input(\"Enter the length of side A: \"))\n",
    "side_b=float(input(\"Enter the length of side B: \"))\n",
    "third_side=find_third_side(side_a, side_b)\n",
    "print(f\"The length of the third side (hypotenuse) is: {third_side:.2f}\")"
   ]
  },
  {
   "cell_type": "markdown",
   "id": "454d42eb",
   "metadata": {},
   "source": [
    "15. Write a python program to print the frequency of each of the characters present in a given string."
   ]
  },
  {
   "cell_type": "code",
   "execution_count": 3,
   "id": "d1d8b51e",
   "metadata": {},
   "outputs": [
    {
     "name": "stdout",
     "output_type": "stream",
     "text": [
      "Enter a string: \"The quick brown for jumps over the lazy dog\"\n",
      "Character frequencies: \n",
      " '\"':2\n",
      " 'T':1\n",
      " 'h':2\n",
      " 'e':3\n",
      " ' ':8\n",
      " 'q':1\n",
      " 'u':2\n",
      " 'i':1\n",
      " 'c':1\n",
      " 'k':1\n",
      " 'b':1\n",
      " 'r':3\n",
      " 'o':4\n",
      " 'w':1\n",
      " 'n':1\n",
      " 'f':1\n",
      " 'j':1\n",
      " 'm':1\n",
      " 'p':1\n",
      " 's':1\n",
      " 'v':1\n",
      " 't':1\n",
      " 'l':1\n",
      " 'a':1\n",
      " 'z':1\n",
      " 'y':1\n",
      " 'd':1\n",
      " 'g':1\n"
     ]
    }
   ],
   "source": [
    "def character_frequency(string):\n",
    "    frequency={}\n",
    "    for char in string:\n",
    "        if char in frequency:\n",
    "            frequency[char]+= 1\n",
    "        else:\n",
    "            frequency[char]=1\n",
    "    return frequency\n",
    "\n",
    "user_input=input(\"Enter a string: \")\n",
    "result=character_frequency(user_input)\n",
    "print(\"Character frequencies: \")\n",
    "for char, freq in result.items():\n",
    "    print(f\" '{char}':{freq}\")"
   ]
  },
  {
   "cell_type": "code",
   "execution_count": null,
   "id": "159ff80d",
   "metadata": {},
   "outputs": [],
   "source": []
  }
 ],
 "metadata": {
  "kernelspec": {
   "display_name": "Python 3 (ipykernel)",
   "language": "python",
   "name": "python3"
  },
  "language_info": {
   "codemirror_mode": {
    "name": "ipython",
    "version": 3
   },
   "file_extension": ".py",
   "mimetype": "text/x-python",
   "name": "python",
   "nbconvert_exporter": "python",
   "pygments_lexer": "ipython3",
   "version": "3.10.9"
  }
 },
 "nbformat": 4,
 "nbformat_minor": 5
}
